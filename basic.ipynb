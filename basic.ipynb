{
  "nbformat": 4,
  "nbformat_minor": 0,
  "metadata": {
    "colab": {
      "name": "basic.ipynb",
      "provenance": [],
      "collapsed_sections": [],
      "authorship_tag": "ABX9TyOkbyv1ZGgMdPCiwsT9nIBv",
      "include_colab_link": true
    },
    "kernelspec": {
      "name": "python3",
      "display_name": "Python 3"
    }
  },
  "cells": [
    {
      "cell_type": "markdown",
      "metadata": {
        "id": "view-in-github",
        "colab_type": "text"
      },
      "source": [
        "<a href=\"https://colab.research.google.com/github/pankajgupta14061999/basic-python/blob/master/basic.ipynb\" target=\"_parent\"><img src=\"https://colab.research.google.com/assets/colab-badge.svg\" alt=\"Open In Colab\"/></a>"
      ]
    },
    {
      "cell_type": "code",
      "metadata": {
        "id": "fIHk0bofETLN",
        "colab_type": "code",
        "colab": {
          "base_uri": "https://localhost:8080/",
          "height": 34
        },
        "outputId": "97586ab8-8bc9-4b5e-b87a-2dc4fb630bca"
      },
      "source": [
        "print(\"Hello Pankaj\")"
      ],
      "execution_count": 3,
      "outputs": [
        {
          "output_type": "stream",
          "text": [
            "Hello Pankaj\n"
          ],
          "name": "stdout"
        }
      ]
    },
    {
      "cell_type": "markdown",
      "metadata": {
        "id": "4ZM862nfZN02",
        "colab_type": "text"
      },
      "source": [
        "#backslash"
      ]
    },
    {
      "cell_type": "code",
      "metadata": {
        "id": "vw2Ijx1tXzTQ",
        "colab_type": "code",
        "colab": {
          "base_uri": "https://localhost:8080/",
          "height": 129
        },
        "outputId": "89855ccb-b401-47e6-ade2-cea9fd2271f2"
      },
      "source": [
        "print('Hell'o')"
      ],
      "execution_count": 6,
      "outputs": [
        {
          "output_type": "error",
          "ename": "SyntaxError",
          "evalue": "ignored",
          "traceback": [
            "\u001b[0;36m  File \u001b[0;32m\"<ipython-input-6-1316c98c3896>\"\u001b[0;36m, line \u001b[0;32m1\u001b[0m\n\u001b[0;31m    print('Hell'o')\u001b[0m\n\u001b[0m                ^\u001b[0m\n\u001b[0;31mSyntaxError\u001b[0m\u001b[0;31m:\u001b[0m invalid syntax\n"
          ]
        }
      ]
    },
    {
      "cell_type": "code",
      "metadata": {
        "id": "It7pKcWVZH4Z",
        "colab_type": "code",
        "colab": {
          "base_uri": "https://localhost:8080/",
          "height": 34
        },
        "outputId": "081f9b98-e700-4a17-91cf-7c664965e9d2"
      },
      "source": [
        "print('hell\\'o')"
      ],
      "execution_count": 7,
      "outputs": [
        {
          "output_type": "stream",
          "text": [
            "hell'o\n"
          ],
          "name": "stdout"
        }
      ]
    },
    {
      "cell_type": "code",
      "metadata": {
        "id": "HmlNubH9ZLcv",
        "colab_type": "code",
        "colab": {
          "base_uri": "https://localhost:8080/",
          "height": 34
        },
        "outputId": "45f5077e-3590-4e4e-fba8-0262acf9d548"
      },
      "source": [
        "print(\"\"\"hello what are you doing\"\"\")"
      ],
      "execution_count": 8,
      "outputs": [
        {
          "output_type": "stream",
          "text": [
            "hello what are you doing\n"
          ],
          "name": "stdout"
        }
      ]
    },
    {
      "cell_type": "code",
      "metadata": {
        "id": "4q5s9Bx3aCdQ",
        "colab_type": "code",
        "colab": {}
      },
      "source": [
        "message='bobby'"
      ],
      "execution_count": 10,
      "outputs": []
    },
    {
      "cell_type": "code",
      "metadata": {
        "id": "hOBK2pv_aK9n",
        "colab_type": "code",
        "colab": {
          "base_uri": "https://localhost:8080/",
          "height": 34
        },
        "outputId": "56d603a3-3319-463d-89c6-1f0bf1bfa0f6"
      },
      "source": [
        "print(len(message))"
      ],
      "execution_count": 11,
      "outputs": [
        {
          "output_type": "stream",
          "text": [
            "5\n"
          ],
          "name": "stdout"
        }
      ]
    },
    {
      "cell_type": "code",
      "metadata": {
        "id": "JE8YW8xtaNo4",
        "colab_type": "code",
        "colab": {
          "base_uri": "https://localhost:8080/",
          "height": 34
        },
        "outputId": "573be66f-ee6f-4000-d36b-8f6554ec801d"
      },
      "source": [
        "print(message[0])"
      ],
      "execution_count": 12,
      "outputs": [
        {
          "output_type": "stream",
          "text": [
            "b\n"
          ],
          "name": "stdout"
        }
      ]
    },
    {
      "cell_type": "markdown",
      "metadata": {
        "id": "TR2-fO9vbdgr",
        "colab_type": "text"
      },
      "source": [
        "#**slicing** \n"
      ]
    },
    {
      "cell_type": "code",
      "metadata": {
        "id": "onuNhafNazrC",
        "colab_type": "code",
        "colab": {
          "base_uri": "https://localhost:8080/",
          "height": 34
        },
        "outputId": "0917bbc4-cc3f-4765-c67f-e1428154b9bb"
      },
      "source": [
        "print(message[0:3])"
      ],
      "execution_count": 14,
      "outputs": [
        {
          "output_type": "stream",
          "text": [
            "bob\n"
          ],
          "name": "stdout"
        }
      ]
    },
    {
      "cell_type": "code",
      "metadata": {
        "id": "RIoY7KW9a4Bd",
        "colab_type": "code",
        "colab": {
          "base_uri": "https://localhost:8080/",
          "height": 34
        },
        "outputId": "1ffe11aa-b9ed-421d-a705-c260698c510b"
      },
      "source": [
        "print(message[:3])"
      ],
      "execution_count": 15,
      "outputs": [
        {
          "output_type": "stream",
          "text": [
            "bob\n"
          ],
          "name": "stdout"
        }
      ]
    },
    {
      "cell_type": "code",
      "metadata": {
        "id": "uK0c_yOWbRBH",
        "colab_type": "code",
        "colab": {
          "base_uri": "https://localhost:8080/",
          "height": 34
        },
        "outputId": "063e396d-a8ec-45c6-bb64-7205a1a6edce"
      },
      "source": [
        "print(message[1:])"
      ],
      "execution_count": 16,
      "outputs": [
        {
          "output_type": "stream",
          "text": [
            "obby\n"
          ],
          "name": "stdout"
        }
      ]
    },
    {
      "cell_type": "code",
      "metadata": {
        "id": "tUdECW3HbT_V",
        "colab_type": "code",
        "colab": {
          "base_uri": "https://localhost:8080/",
          "height": 34
        },
        "outputId": "32adcf2e-f575-488e-e1f1-5b2f5d457306"
      },
      "source": [
        "print(message.upper())"
      ],
      "execution_count": 21,
      "outputs": [
        {
          "output_type": "stream",
          "text": [
            "BOBBY\n"
          ],
          "name": "stdout"
        }
      ]
    },
    {
      "cell_type": "code",
      "metadata": {
        "id": "ub4Y80JFb9yy",
        "colab_type": "code",
        "colab": {
          "base_uri": "https://localhost:8080/",
          "height": 34
        },
        "outputId": "10d55865-ca61-4c46-e416-1f6c61667d6f"
      },
      "source": [
        "print(message.count('b'))"
      ],
      "execution_count": 23,
      "outputs": [
        {
          "output_type": "stream",
          "text": [
            "3\n"
          ],
          "name": "stdout"
        }
      ]
    },
    {
      "cell_type": "code",
      "metadata": {
        "id": "oSbN1Aj4cSVp",
        "colab_type": "code",
        "colab": {
          "base_uri": "https://localhost:8080/",
          "height": 35
        },
        "outputId": "3c8f2f54-bcac-46ef-e209-53a6cf2abc06"
      },
      "source": [
        "message.replace('ob','bo')"
      ],
      "execution_count": 24,
      "outputs": [
        {
          "output_type": "execute_result",
          "data": {
            "application/vnd.google.colaboratory.intrinsic+json": {
              "type": "string"
            },
            "text/plain": [
              "'bboby'"
            ]
          },
          "metadata": {
            "tags": []
          },
          "execution_count": 24
        }
      ]
    },
    {
      "cell_type": "code",
      "metadata": {
        "id": "PB6QM9v8c5U1",
        "colab_type": "code",
        "colab": {
          "base_uri": "https://localhost:8080/",
          "height": 34
        },
        "outputId": "5fcadece-8bd8-48ba-87c9-e250e688f30c"
      },
      "source": [
        "print(message)"
      ],
      "execution_count": 25,
      "outputs": [
        {
          "output_type": "stream",
          "text": [
            "bobby\n"
          ],
          "name": "stdout"
        }
      ]
    },
    {
      "cell_type": "code",
      "metadata": {
        "id": "ZNBOlcGEdFsA",
        "colab_type": "code",
        "colab": {}
      },
      "source": [
        "# it is showing same bcoz we dont store replace output in message"
      ],
      "execution_count": 26,
      "outputs": []
    },
    {
      "cell_type": "markdown",
      "metadata": {
        "id": "j-OVaCsyeD-5",
        "colab_type": "text"
      },
      "source": [
        "##  contactenation"
      ]
    },
    {
      "cell_type": "code",
      "metadata": {
        "id": "uiaSsmUrdN-3",
        "colab_type": "code",
        "colab": {}
      },
      "source": [
        "name= 'deepak'\n",
        "greet= 'hello'"
      ],
      "execution_count": 27,
      "outputs": []
    },
    {
      "cell_type": "code",
      "metadata": {
        "id": "-pEQWNnPePC2",
        "colab_type": "code",
        "colab": {}
      },
      "source": [
        "message=name+' '+greet"
      ],
      "execution_count": 28,
      "outputs": []
    },
    {
      "cell_type": "code",
      "metadata": {
        "id": "5UihlCH2ejnd",
        "colab_type": "code",
        "colab": {
          "base_uri": "https://localhost:8080/",
          "height": 34
        },
        "outputId": "52a472b5-d62f-487d-984c-4c7a6b0c2091"
      },
      "source": [
        "print(message)"
      ],
      "execution_count": 29,
      "outputs": [
        {
          "output_type": "stream",
          "text": [
            "deepak hello\n"
          ],
          "name": "stdout"
        }
      ]
    },
    {
      "cell_type": "markdown",
      "metadata": {
        "id": "vVzggaZtenjz",
        "colab_type": "text"
      },
      "source": [
        "## we can do also"
      ]
    },
    {
      "cell_type": "code",
      "metadata": {
        "id": "VoScFli9elXr",
        "colab_type": "code",
        "colab": {}
      },
      "source": [
        "new='{} {}'.format(greet,name)"
      ],
      "execution_count": 30,
      "outputs": []
    },
    {
      "cell_type": "code",
      "metadata": {
        "id": "rjdWIw6LgFoa",
        "colab_type": "code",
        "colab": {
          "base_uri": "https://localhost:8080/",
          "height": 34
        },
        "outputId": "3916d977-01ea-478d-e142-c4c30ab33a60"
      },
      "source": [
        "print(new)"
      ],
      "execution_count": 31,
      "outputs": [
        {
          "output_type": "stream",
          "text": [
            "hello deepak\n"
          ],
          "name": "stdout"
        }
      ]
    },
    {
      "cell_type": "markdown",
      "metadata": {
        "id": "WeAuhPpqgykn",
        "colab_type": "text"
      },
      "source": [
        "## this else we can do.this is called f string"
      ]
    },
    {
      "cell_type": "code",
      "metadata": {
        "id": "XS_vJq9hgHDZ",
        "colab_type": "code",
        "colab": {}
      },
      "source": [
        "ans=f'{greet} {name.upper()}'"
      ],
      "execution_count": 36,
      "outputs": []
    },
    {
      "cell_type": "code",
      "metadata": {
        "id": "A8mojAFUhCeW",
        "colab_type": "code",
        "colab": {
          "base_uri": "https://localhost:8080/",
          "height": 34
        },
        "outputId": "95db1c27-72f9-4809-ef3d-35fc837f3b4e"
      },
      "source": [
        "print(ans)"
      ],
      "execution_count": 37,
      "outputs": [
        {
          "output_type": "stream",
          "text": [
            "hello DEEPAK\n"
          ],
          "name": "stdout"
        }
      ]
    },
    {
      "cell_type": "markdown",
      "metadata": {
        "id": "Jm5KbdWlkdjt",
        "colab_type": "text"
      },
      "source": [
        "##datatype"
      ]
    },
    {
      "cell_type": "code",
      "metadata": {
        "id": "1dnDhiCThEZJ",
        "colab_type": "code",
        "colab": {
          "base_uri": "https://localhost:8080/",
          "height": 34
        },
        "outputId": "01ed3177-2c89-4927-fd65-94cf8bc37b7d"
      },
      "source": [
        "print(type(ans))"
      ],
      "execution_count": 38,
      "outputs": [
        {
          "output_type": "stream",
          "text": [
            "<class 'str'>\n"
          ],
          "name": "stdout"
        }
      ]
    },
    {
      "cell_type": "code",
      "metadata": {
        "id": "Tns6Z5GZkgSH",
        "colab_type": "code",
        "colab": {}
      },
      "source": [
        "num=324.34"
      ],
      "execution_count": 39,
      "outputs": []
    },
    {
      "cell_type": "code",
      "metadata": {
        "id": "ZpX_fmY4kj4s",
        "colab_type": "code",
        "colab": {
          "base_uri": "https://localhost:8080/",
          "height": 34
        },
        "outputId": "56795204-4dd6-4569-ac4a-494f369bfaa2"
      },
      "source": [
        "print(type(num))"
      ],
      "execution_count": 40,
      "outputs": [
        {
          "output_type": "stream",
          "text": [
            "<class 'float'>\n"
          ],
          "name": "stdout"
        }
      ]
    },
    {
      "cell_type": "code",
      "metadata": {
        "id": "N1W8s63OknVG",
        "colab_type": "code",
        "colab": {
          "base_uri": "https://localhost:8080/",
          "height": 34
        },
        "outputId": "ccf3bddf-e2ae-4c00-9175-c1c70cbb3573"
      },
      "source": [
        "print(3/2) #by default float"
      ],
      "execution_count": 43,
      "outputs": [
        {
          "output_type": "stream",
          "text": [
            "1.5\n"
          ],
          "name": "stdout"
        }
      ]
    },
    {
      "cell_type": "code",
      "metadata": {
        "id": "tw8xXiZPk0rS",
        "colab_type": "code",
        "colab": {
          "base_uri": "https://localhost:8080/",
          "height": 34
        },
        "outputId": "f19bcf3f-9de7-45c8-d1f6-fd5c67c89717"
      },
      "source": [
        "print(3//2) #// for int"
      ],
      "execution_count": 44,
      "outputs": [
        {
          "output_type": "stream",
          "text": [
            "1\n"
          ],
          "name": "stdout"
        }
      ]
    },
    {
      "cell_type": "code",
      "metadata": {
        "id": "6DG998lMk2uE",
        "colab_type": "code",
        "colab": {
          "base_uri": "https://localhost:8080/",
          "height": 34
        },
        "outputId": "b431c526-842c-4bb2-c593-89290043105f"
      },
      "source": [
        "print(2**3)"
      ],
      "execution_count": 45,
      "outputs": [
        {
          "output_type": "stream",
          "text": [
            "8\n"
          ],
          "name": "stdout"
        }
      ]
    },
    {
      "cell_type": "code",
      "metadata": {
        "id": "AXWt7COflGEa",
        "colab_type": "code",
        "colab": {}
      },
      "source": [
        "a=-10\n"
      ],
      "execution_count": 46,
      "outputs": []
    },
    {
      "cell_type": "code",
      "metadata": {
        "id": "QQ2xftvVl3Y2",
        "colab_type": "code",
        "colab": {
          "base_uri": "https://localhost:8080/",
          "height": 34
        },
        "outputId": "78fb555a-5101-430f-a8b8-927ea7315e2c"
      },
      "source": [
        "print(abs(a))"
      ],
      "execution_count": 47,
      "outputs": [
        {
          "output_type": "stream",
          "text": [
            "10\n"
          ],
          "name": "stdout"
        }
      ]
    },
    {
      "cell_type": "code",
      "metadata": {
        "id": "2GYs0UoSl4sd",
        "colab_type": "code",
        "colab": {}
      },
      "source": [
        "a/=2"
      ],
      "execution_count": 48,
      "outputs": []
    },
    {
      "cell_type": "code",
      "metadata": {
        "id": "23mlL-iZl7kI",
        "colab_type": "code",
        "colab": {
          "base_uri": "https://localhost:8080/",
          "height": 34
        },
        "outputId": "641690ae-0986-4395-cec3-d1c882829d43"
      },
      "source": [
        "print(a)"
      ],
      "execution_count": 49,
      "outputs": [
        {
          "output_type": "stream",
          "text": [
            "-5.0\n"
          ],
          "name": "stdout"
        }
      ]
    },
    {
      "cell_type": "code",
      "metadata": {
        "id": "5_p_ZAkol8xK",
        "colab_type": "code",
        "colab": {
          "base_uri": "https://localhost:8080/",
          "height": 34
        },
        "outputId": "32ce59c5-4d8f-4fe1-d57a-56650f93d531"
      },
      "source": [
        " print(round(3))"
      ],
      "execution_count": 50,
      "outputs": [
        {
          "output_type": "stream",
          "text": [
            "3\n"
          ],
          "name": "stdout"
        }
      ]
    },
    {
      "cell_type": "code",
      "metadata": {
        "id": "tcJZPvHOmDYR",
        "colab_type": "code",
        "colab": {
          "base_uri": "https://localhost:8080/",
          "height": 34
        },
        "outputId": "90b395ca-f293-4543-cc51-31bf6b3f0f87"
      },
      "source": [
        "print(round(3.67))"
      ],
      "execution_count": 51,
      "outputs": [
        {
          "output_type": "stream",
          "text": [
            "4\n"
          ],
          "name": "stdout"
        }
      ]
    },
    {
      "cell_type": "code",
      "metadata": {
        "id": "Jm8LqBpYmIjG",
        "colab_type": "code",
        "colab": {
          "base_uri": "https://localhost:8080/",
          "height": 34
        },
        "outputId": "3ff7846a-f8e3-4562-c642-473ff2d2504f"
      },
      "source": [
        "print(round(3.67,1)) #round upto 1 deci digit"
      ],
      "execution_count": 53,
      "outputs": [
        {
          "output_type": "stream",
          "text": [
            "3.7\n"
          ],
          "name": "stdout"
        }
      ]
    },
    {
      "cell_type": "markdown",
      "metadata": {
        "id": "DPwBFTOvnEOR",
        "colab_type": "text"
      },
      "source": [
        "## typecast\n",
        "\n"
      ]
    },
    {
      "cell_type": "code",
      "metadata": {
        "id": "sHkK39V5mPIe",
        "colab_type": "code",
        "colab": {}
      },
      "source": [
        "num1='10'"
      ],
      "execution_count": 54,
      "outputs": []
    },
    {
      "cell_type": "code",
      "metadata": {
        "id": "WeM0qc6UmuUg",
        "colab_type": "code",
        "colab": {}
      },
      "source": [
        "num2='20'"
      ],
      "execution_count": 55,
      "outputs": []
    },
    {
      "cell_type": "code",
      "metadata": {
        "id": "zHae_IZHmvqv",
        "colab_type": "code",
        "colab": {
          "base_uri": "https://localhost:8080/",
          "height": 34
        },
        "outputId": "1482b7bf-b31f-4cbf-aace-21deb179b656"
      },
      "source": [
        "print(num1+num2)"
      ],
      "execution_count": 56,
      "outputs": [
        {
          "output_type": "stream",
          "text": [
            "1020\n"
          ],
          "name": "stdout"
        }
      ]
    },
    {
      "cell_type": "code",
      "metadata": {
        "id": "jJdOTbEmmxUp",
        "colab_type": "code",
        "colab": {
          "base_uri": "https://localhost:8080/",
          "height": 34
        },
        "outputId": "3a1f925d-54bb-484c-8185-79eb079a9b75"
      },
      "source": [
        "print(int(num1) + int(num2))"
      ],
      "execution_count": 59,
      "outputs": [
        {
          "output_type": "stream",
          "text": [
            "30\n"
          ],
          "name": "stdout"
        }
      ]
    },
    {
      "cell_type": "code",
      "metadata": {
        "id": "_YHSaTGam1-B",
        "colab_type": "code",
        "colab": {}
      },
      "source": [
        ""
      ],
      "execution_count": null,
      "outputs": []
    }
  ]
}